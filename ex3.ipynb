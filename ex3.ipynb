{
 "cells": [
  {
   "cell_type": "code",
   "execution_count": null,
   "metadata": {},
   "outputs": [],
   "source": [
    "\n",
    "BMI = 0\n",
    "height = int(input(\"輸入身高(cm)：\"))\n",
    "weight = int(input(\"輸入體重(kg)：\"))"
   ]
  },
  {
   "cell_type": "code",
   "execution_count": null,
   "metadata": {},
   "outputs": [],
   "source": [
    "BMI = weight / ((height/100)*(height/100))"
   ]
  },
  {
   "cell_type": "code",
   "execution_count": null,
   "metadata": {},
   "outputs": [],
   "source": [
    "print(\"你的BMI是{0}\" .format(BMI))\n",
    "\n",
    "if BMI < 18.5:\n",
    "    print(\"體重過輕\")\n",
    "if BMI >=18.5 and BMI < 24:\n",
    "    print(\"體重正常範圍\")\n",
    "if BMI >=24 and BMI < 27:\n",
    "    print(\"體重過重\")\n",
    "if BMI >=27 and BMI < 30:\n",
    "    print(\"輕度肥胖\")\n",
    "if BMI >=30 and BMI < 35:\n",
    "    print(\"中度肥胖\")\n",
    "if BMI >= 35:\n",
    "    print(\"重度肥胖\")"
   ]
  }
 ],
 "metadata": {
  "kernelspec": {
   "display_name": "Python 3",
   "language": "python",
   "name": "python3"
  },
  "language_info": {
   "codemirror_mode": {
    "name": "ipython",
    "version": 3
   },
   "file_extension": ".py",
   "mimetype": "text/x-python",
   "name": "python",
   "nbconvert_exporter": "python",
   "pygments_lexer": "ipython3",
   "version": "3.5.6"
  }
 },
 "nbformat": 4,
 "nbformat_minor": 2
}
